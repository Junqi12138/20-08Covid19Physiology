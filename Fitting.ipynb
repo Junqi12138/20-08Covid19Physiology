{
 "cells": [
  {
   "cell_type": "markdown",
   "metadata": {},
   "source": [
    "# A Standard Virus Load Function"
   ]
  },
  {
   "cell_type": "markdown",
   "metadata": {},
   "source": [
    "Here we consider a virus load function with three main phases given by\n",
    "\n",
    "$$V(t)=v_1(t)v_2(t)v_3(t),$$\n",
    "\n",
    "where $v _1$ describes the initial growth phase between $a _1$ and $a _2$ , $v _2$ the intermediate slow decay\n",
    "phase between $a _2$ and $b _1$, and $v _3$ the final decay phase between $b _1$ and $b _2$. These functions are given as sigmoid and exponential functions, respectively\n",
    "\n",
    "$$\n",
    "\\begin{aligned}\n",
    "v_1(t) & = 1 + \\frac{\\max - 1}{2} \\left[ \\tanh \\left( \\frac{6}{a_2 - a_1} \\left( t - \\frac{a_1 + a_2}{2} \\right) - \\tanh  \\left( -3\\frac{a_2 + a_1}{a_2 - a_1} \\right) \\right) \\right] \\\\\n",
    "v_2(t) & = (1 - H(t - a_2)) + H(t - a_2)e^{-\\alpha(t - a_2)} \\\\\n",
    "v_3(t) & = 1 - \\frac{1 - \\min}{2} \\left[ \\tanh \\left( \\frac{6}{b_2 - b_1} \\left( t - \\frac{b_1 + b_2}{2} \\right) - \\tanh  \\left( -3\\frac{b_2 + b_1}{b_2 - b_1} \\right) \\right) \\right],\n",
    "\\end{aligned}\n",
    "$$\n",
    "\n",
    "where $H(t)$ denotes the Heaviside function.\n",
    "\n",
    "\n",
    "\n",
    "A typical virus load curve is shown bellow with the corresponding times. \n",
    "\n",
    "![VirusLoadCurves](figures/notebooks/VirusLoadCurves.png)\n",
    "\n"
   ]
  },
  {
   "cell_type": "code",
   "execution_count": 14,
   "metadata": {},
   "outputs": [],
   "source": [
    "import numpy as np\n",
    "import matplotlib.pyplot as plt\n",
    "from scipy.optimize import curve_fit"
   ]
  },
  {
   "cell_type": "code",
   "execution_count": 67,
   "metadata": {},
   "outputs": [],
   "source": [
    "def VirusLoad(t, a1, a2, b1, b2, alpha, minv, maxv):\n",
    "    def v1(t, a1, a2, maxv):\n",
    "        return 1. + (maxv - 1.)*(np.tanh(6.*(t - (a1 + a2)/2)/(a2 - a1)) - np.tanh(-3.*(a2 + a1)/(a2 - a1)))/2.\n",
    "    \n",
    "    def v2(t, a1, a2, alpha):\n",
    "        return 1. - np.heaviside(t - a2, 0.5) + np.heaviside(t - a2, 0.5)*np.exp(-alpha*(t - a2))\n",
    "    \n",
    "    def v3(t, b1, b2, minv):\n",
    "        return 1. - (1. - minv)*(np.tanh(6.*(t - (b1 + b2)/2)/(b2 - b1)) - np.tanh(-3.*(b2 + b1)/(b2 - b1)))/2.\n",
    "    \n",
    "    return v1(t, a1, a2, maxv)*v2(t, a1, a2, alpha)*v3(t, b1, b2, minv)"
   ]
  },
  {
   "cell_type": "code",
   "execution_count": 90,
   "metadata": {},
   "outputs": [
    {
     "name": "stdout",
     "output_type": "stream",
     "text": [
      "[  -0.29323834   67.17043546    1.            1.         -261.19255758\n",
      "   83.03020105   77.68028961]\n",
      "[4.98558864e-01 3.99937827e+00 1.31213652e+01 1.89205475e+01\n",
      " 9.91031351e-02 5.90775765e-12 9.95347387e+05]\n"
     ]
    },
    {
     "name": "stderr",
     "output_type": "stream",
     "text": [
      "<ipython-input-67-95ca70dae652>:3: RuntimeWarning: divide by zero encountered in true_divide\n",
      "  return 1. + (maxv - 1.)*(np.tanh(6.*(t - (a1 + a2)/2)/(a2 - a1)) - np.tanh(-3.*(a2 + a1)/(a2 - a1)))/2.\n",
      "<ipython-input-67-95ca70dae652>:3: RuntimeWarning: divide by zero encountered in double_scalars\n",
      "  return 1. + (maxv - 1.)*(np.tanh(6.*(t - (a1 + a2)/2)/(a2 - a1)) - np.tanh(-3.*(a2 + a1)/(a2 - a1)))/2.\n",
      "<ipython-input-67-95ca70dae652>:9: RuntimeWarning: divide by zero encountered in true_divide\n",
      "  return 1. - (1. - minv)*(np.tanh(6.*(t - (b1 + b2)/2)/(b2 - b1)) - np.tanh(-3.*(b2 + b1)/(b2 - b1)))/2.\n",
      "<ipython-input-67-95ca70dae652>:9: RuntimeWarning: divide by zero encountered in double_scalars\n",
      "  return 1. - (1. - minv)*(np.tanh(6.*(t - (b1 + b2)/2)/(b2 - b1)) - np.tanh(-3.*(b2 + b1)/(b2 - b1)))/2.\n",
      "/home/shigoto/.local/lib/python3.8/site-packages/scipy/optimize/minpack.py:828: OptimizeWarning: Covariance of the parameters could not be estimated\n",
      "  warnings.warn('Covariance of the parameters could not be estimated',\n"
     ]
    }
   ],
   "source": [
    "xdata = np.linspace(0, 22, 100)\n",
    "y = VirusLoad(xdata, 0.5, 4., 13., 19., 0.1, 1e-6, 1e6)\n",
    "np.random.seed(1729)\n",
    "y_noise = 1e4 * np.random.normal(size=xdata.size)\n",
    "ydata = y + y_noise\n",
    "\n",
    "popt1, pcov2 = curve_fit(VirusLoad, xdata, ydata)\n",
    "print(popt1)\n",
    "\n",
    "popt2, pcov2 = curve_fit(VirusLoad, xdata, ydata, bounds=(0, [2., 5., 20., 22., 0.2, 1e-5, 1e+6]))\n",
    "print(popt2)"
   ]
  },
  {
   "cell_type": "code",
   "execution_count": 91,
   "metadata": {},
   "outputs": [
    {
     "data": {
      "image/png": "[encoded data removed]",
      "text/plain": [
       "<Figure size 432x288 with 1 Axes>"
      ]
     },
     "metadata": {
      "needs_background": "light"
     },
     "output_type": "display_data"
    }
   ],
   "source": [
    "plt.plot(xdata, ydata, 'b-', label='data')\n",
    "plt.plot(xdata, VirusLoad(xdata, *popt1), 'r-',\n",
    "         label='fit: $a_1$=%2.1f, $a_2$=%2.1f\\n $b_1$=%2.1f, $b_2$=%2.1f\\n $\\\\alpha$=%2.1f, min=%1.0e\\n max=%1.0e' % tuple(popt1))\n",
    "plt.plot(xdata, VirusLoad(xdata, *popt2), 'g--',\n",
    "         label='fit: $a_1$=%2.1f, $a_2$=%2.1f\\n $b_1$=%2.1f, $b_2$=%2.1f\\n $\\\\alpha$=%2.1f, min=%1.0e\\n max=%1.0e' % tuple(popt2))\n",
    "\n",
    "plt.xlabel('t')\n",
    "plt.ylabel('V(t)')\n",
    "plt.legend()\n",
    "plt.show()"
   ]
  },
  {
   "cell_type": "code",
   "execution_count": null,
   "metadata": {},
   "outputs": [],
   "source": []
  }
 ],
 "metadata": {
  "kernelspec": {
   "display_name": "Python 3",
   "language": "python",
   "name": "python3"
  },
  "language_info": {
   "codemirror_mode": {
    "name": "ipython",
    "version": 3
   },
   "file_extension": ".py",
   "mimetype": "text/x-python",
   "name": "python",
   "nbconvert_exporter": "python",
   "pygments_lexer": "ipython3",
   "version": "3.8.2"
  }
 },
 "nbformat": 4,
 "nbformat_minor": 4
}
