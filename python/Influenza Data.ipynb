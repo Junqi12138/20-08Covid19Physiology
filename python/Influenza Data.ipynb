{
 "cells": [
  {
   "cell_type": "markdown",
   "metadata": {},
   "source": [
    "# A Standard Virus Load Function\n",
    "\n",
    "Here we consider a virus load function with three main phases given by\n",
    "\n",
    "$$V(t)=v_1(t)v_2(t)v_3(t),$$\n",
    "\n",
    "where $v _1$ describes the initial growth phase between $a _1$ and $a _2$ , $v _2$ the intermediate slow decay\n",
    "phase between $a _2$ and $b _1$, and $v _3$ the final decay phase between $b _1$ and $b _2$. These functions are given as sigmoid and exponential functions, respectively\n",
    "\n",
    "$$\n",
    "\\begin{aligned}\n",
    "v_1(t) & = 1 + \\frac{\\max - 1}{2} \\left[ \\tanh \\left( \\frac{6}{a_2 - a_1} \\left( t - \\frac{a_1 + a_2}{2} \\right) - \\tanh  \\left( -3\\frac{a_2 + a_1}{a_2 - a_1} \\right) \\right) \\right] \\\\\n",
    "v_2(t) & = (1 - H(t - a_2)) + H(t - a_2)e^{-\\alpha(t - a_2)} \\\\\n",
    "v_3(t) & = 1 - \\frac{1 - \\min}{2} \\left[ \\tanh \\left( \\frac{6}{b_2 - b_1} \\left( t - \\frac{b_1 + b_2}{2} \\right) - \\tanh  \\left( -3\\frac{b_2 + b_1}{b_2 - b_1} \\right) \\right) \\right],\n",
    "\\end{aligned}\n",
    "$$\n",
    "\n",
    "where $H(t)$ denotes the Heaviside function.\n",
    "\n",
    "\n",
    "\n",
    "A typical virus load curve is shown bellow with the corresponding times. \n",
    "\n",
    "![VirusLoadCurves](figures/notebooks/VirusLoadCurves.png)\n",
    "\n"
   ]
  },
  {
   "cell_type": "code",
   "execution_count": 1,
   "metadata": {},
   "outputs": [],
   "source": [
    "%load_ext autoreload\n",
    "%autoreload 2"
   ]
  },
  {
   "cell_type": "code",
   "execution_count": 2,
   "metadata": {},
   "outputs": [],
   "source": [
    "import numpy as np\n",
    "import matplotlib.pyplot as plt"
   ]
  },
  {
   "cell_type": "code",
   "execution_count": 3,
   "metadata": {},
   "outputs": [],
   "source": [
    "from VirusLoadFunction import VirusLoadFunction"
   ]
  },
  {
   "cell_type": "code",
   "execution_count": null,
   "metadata": {},
   "outputs": [],
   "source": []
  },
  {
   "cell_type": "markdown",
   "metadata": {},
   "source": [
    "## Data\n",
    "Using data from Smith et al. (2018), *Frontier in Microbiology*."
   ]
  },
  {
   "cell_type": "code",
   "execution_count": 4,
   "metadata": {},
   "outputs": [],
   "source": [
    "lines = open('../../data/Smith2018/Virus_Best10.txt').readlines()\n",
    "data = []\n",
    "for line in lines:\n",
    "    data.append(np.array([float(p) for p in line.split(' ')]))"
   ]
  },
  {
   "cell_type": "code",
   "execution_count": 16,
   "metadata": {},
   "outputs": [
    {
     "data": {
      "text/plain": [
       "array([0.     , 3.99136, 5.47712, 5.84488, 5.82436, 5.81012, 5.0874 ,\n",
       "       4.49136, 0.     , 0.     , 0.     , 0.     , 0.     ])"
      ]
     },
     "execution_count": 16,
     "metadata": {},
     "output_type": "execute_result"
    }
   ],
   "source": [
    "avgdata = np.zeros(len(data))\n",
    "for vdata in data:\n",
    "    avgdata = avgdata"
   ]
  },
  {
   "cell_type": "code",
   "execution_count": 8,
   "metadata": {},
   "outputs": [
    {
     "data": {
      "image/png": "[encoded data removed]",
      "text/plain": [
       "<Figure size 432x288 with 1 Axes>"
      ]
     },
     "metadata": {
      "needs_background": "light"
     },
     "output_type": "display_data"
    }
   ],
   "source": [
    "tdata = np.linspace(0, 10, len(data[0]))\n",
    "for vdata in data:\n",
    "    plt.plot(tdata, vdata, 'ro')\n",
    "plt.xlabel('t')\n",
    "plt.ylabel('V(t)')\n",
    "plt.show()"
   ]
  },
  {
   "cell_type": "code",
   "execution_count": 26,
   "metadata": {},
   "outputs": [
    {
     "data": {
      "image/png": "[encoded data removed]",
      "text/plain": [
       "<Figure size 432x288 with 1 Axes>"
      ]
     },
     "metadata": {
      "needs_background": "light"
     },
     "output_type": "display_data"
    }
   ],
   "source": [
    "# vl = VirusLoadFunction(tdata, data[0])\n",
    "vl = VirusLoadFunction(tdata, np.average(data, axis=0))\n",
    "vl.Plot()"
   ]
  },
  {
   "cell_type": "code",
   "execution_count": 27,
   "metadata": {},
   "outputs": [
    {
     "name": "stdout",
     "output_type": "stream",
     "text": [
      "[10.0, 10.0, 10.0, 10.0, 10.0, 10.0, 100000000.0]\n",
      "[0.5, 2.0, 6.0, 9.0, 0.2, 1e-06, 1000000.0]\n"
     ]
    },
    {
     "data": {
      "image/png": "[encoded data removed]",
      "text/plain": [
       "<Figure size 432x288 with 1 Axes>"
      ]
     },
     "metadata": {
      "needs_background": "light"
     },
     "output_type": "display_data"
    }
   ],
   "source": [
    "vl.InitialGuess(0.5, 2., 6., 9., 0.2, 1e-6, 1e6)\n",
    "vl.Fit()\n",
    "vl.Plot()"
   ]
  },
  {
   "cell_type": "code",
   "execution_count": null,
   "metadata": {},
   "outputs": [],
   "source": []
  }
 ],
 "metadata": {
  "kernelspec": {
   "display_name": "Python 3.8.2 64-bit",
   "language": "python",
   "name": "python38264bit647bf622a7574030a347e80da51d7d84"
  },
  "language_info": {
   "codemirror_mode": {
    "name": "ipython",
    "version": 3
   },
   "file_extension": ".py",
   "mimetype": "text/x-python",
   "name": "python",
   "nbconvert_exporter": "python",
   "pygments_lexer": "ipython3",
   "version": "3.8.2"
  }
 },
 "nbformat": 4,
 "nbformat_minor": 4
}
