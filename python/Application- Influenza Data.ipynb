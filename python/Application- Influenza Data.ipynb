{
 "cells": [
  {
   "cell_type": "markdown",
   "metadata": {},
   "source": [
    "# A Standard Virus Load Function: Influenza data application\n",
    "\n",
    "Here we consider a virus load function with three main phases given by\n",
    "\n",
    "$$V(t)=v_1(t)v_2(t)v_3(t),$$\n",
    "\n",
    "where $v _1$ describes the initial growth phase between $a _1$ and $a _2$ , $v _2$ the intermediate slow decay\n",
    "phase between $a _2$ and $b _1$, and $v _3$ the final decay phase between $b _1$ and $b _2$. These functions are given as sigmoid and exponential functions, respectively\n",
    "\n",
    "$$\n",
    "\\begin{aligned}\n",
    "v_1(t) & = 1 + \\frac{\\max - 1}{2} \\left[ \\tanh \\left( \\frac{6}{a_2 - a_1} \\left( t - \\frac{a_1 + a_2}{2} \\right) - \\tanh  \\left( -3\\frac{a_2 + a_1}{a_2 - a_1} \\right) \\right) \\right] \\\\\n",
    "v_2(t) & = (1 - H(t - a_2)) + H(t - a_2)e^{-\\alpha(t - a_2)} \\\\\n",
    "v_3(t) & = 1 - \\frac{1 - \\min}{2} \\left[ \\tanh \\left( \\frac{6}{b_2 - b_1} \\left( t - \\frac{b_1 + b_2}{2} \\right) - \\tanh  \\left( -3\\frac{b_2 + b_1}{b_2 - b_1} \\right) \\right) \\right],\n",
    "\\end{aligned}\n",
    "$$\n",
    "\n",
    "where $H(t)$ denotes the Heaviside function.\n",
    "\n",
    "\n"
   ]
  },
  {
   "cell_type": "code",
   "execution_count": 1,
   "metadata": {},
   "outputs": [],
   "source": [
    "%load_ext autoreload\n",
    "%autoreload 2"
   ]
  },
  {
   "cell_type": "code",
   "execution_count": 2,
   "metadata": {},
   "outputs": [],
   "source": [
    "import numpy as np\n",
    "import pandas as pd\n",
    "import matplotlib as mpl\n",
    "import matplotlib.pyplot as plt"
   ]
  },
  {
   "cell_type": "code",
   "execution_count": 3,
   "metadata": {},
   "outputs": [],
   "source": [
    "mpl.rcParams['figure.figsize'] = [8, 7]\n",
    "mpl.rcParams['font.size'] = 18\n",
    "mpl.rcParams['lines.linewidth'] = 3\n",
    "mpl.rcParams['lines.markersize'] = 8\n",
    "def savefigs(filename):\n",
    "    plt.gcf()\n",
    "    imgdir = 'figures/'\n",
    "    plt.savefig(imgdir + filename + '.pdf', bbox_inches='tight')\n",
    "    plt.savefig(imgdir + filename + '.png', bbox_inches='tight')"
   ]
  },
  {
   "cell_type": "code",
   "execution_count": 4,
   "metadata": {},
   "outputs": [],
   "source": [
    "from VirusLoadFunction import VirusLoadFunction"
   ]
  },
  {
   "cell_type": "markdown",
   "metadata": {},
   "source": [
    "## Data\n",
    "Using data from Smith et al. (2018), *Frontier in Microbiology*.\n",
    "\n",
    "The dataset consists of a 13 observations of viral titers (in log10 scale) from the lung of 10 mice."
   ]
  },
  {
   "cell_type": "code",
   "execution_count": 5,
   "metadata": {},
   "outputs": [
    {
     "name": "stdout",
     "output_type": "stream",
     "text": [
      "Size of dataset: 10\n",
      "Number of observations: 13\n"
     ]
    }
   ],
   "source": [
    "lines = open('../../data/Smith2018/Virus_Best10.txt').readlines()\n",
    "data = []\n",
    "for line in lines:\n",
    "    data.append(np.array([float(p) for p in line.split(' ')]))\n",
    "tdata = np.linspace(0., 12., len(data[0]))\n",
    "print('Size of dataset: %d' % len(data))\n",
    "print('Number of observations: %d' % len(data[0]))"
   ]
  },
  {
   "cell_type": "markdown",
   "metadata": {},
   "source": [
    "Showing data set"
   ]
  },
  {
   "cell_type": "code",
   "execution_count": 6,
   "metadata": {},
   "outputs": [
    {
     "data": {
      "text/html": [
       "<div>\n",
       "<style scoped>\n",
       "    .dataframe tbody tr th:only-of-type {\n",
       "        vertical-align: middle;\n",
       "    }\n",
       "\n",
       "    .dataframe tbody tr th {\n",
       "        vertical-align: top;\n",
       "    }\n",
       "\n",
       "    .dataframe thead th {\n",
       "        text-align: right;\n",
       "    }\n",
       "</style>\n",
       "<table border=\"1\" class=\"dataframe\">\n",
       "  <thead>\n",
       "    <tr style=\"text-align: right;\">\n",
       "      <th></th>\n",
       "      <th>0.0</th>\n",
       "      <th>1.0</th>\n",
       "      <th>2.0</th>\n",
       "      <th>3.0</th>\n",
       "      <th>4.0</th>\n",
       "      <th>5.0</th>\n",
       "      <th>6.0</th>\n",
       "      <th>7.0</th>\n",
       "      <th>8.0</th>\n",
       "      <th>9.0</th>\n",
       "      <th>10.0</th>\n",
       "      <th>11.0</th>\n",
       "      <th>12.0</th>\n",
       "    </tr>\n",
       "  </thead>\n",
       "  <tbody>\n",
       "    <tr>\n",
       "      <th>1</th>\n",
       "      <td>0.0</td>\n",
       "      <td>4.18551</td>\n",
       "      <td>5.67816</td>\n",
       "      <td>6.00515</td>\n",
       "      <td>5.93640</td>\n",
       "      <td>5.97712</td>\n",
       "      <td>5.44716</td>\n",
       "      <td>5.19848</td>\n",
       "      <td>4.00515</td>\n",
       "      <td>0.0</td>\n",
       "      <td>0.0</td>\n",
       "      <td>0.0</td>\n",
       "      <td>0.0</td>\n",
       "    </tr>\n",
       "    <tr>\n",
       "      <th>2</th>\n",
       "      <td>0.0</td>\n",
       "      <td>3.99136</td>\n",
       "      <td>5.47712</td>\n",
       "      <td>5.84488</td>\n",
       "      <td>5.82436</td>\n",
       "      <td>5.81012</td>\n",
       "      <td>5.08740</td>\n",
       "      <td>4.49136</td>\n",
       "      <td>0.00000</td>\n",
       "      <td>0.0</td>\n",
       "      <td>0.0</td>\n",
       "      <td>0.0</td>\n",
       "      <td>0.0</td>\n",
       "    </tr>\n",
       "    <tr>\n",
       "      <th>3</th>\n",
       "      <td>0.0</td>\n",
       "      <td>3.49136</td>\n",
       "      <td>5.44716</td>\n",
       "      <td>5.81012</td>\n",
       "      <td>5.83815</td>\n",
       "      <td>5.78016</td>\n",
       "      <td>5.29540</td>\n",
       "      <td>5.01851</td>\n",
       "      <td>2.94716</td>\n",
       "      <td>0.0</td>\n",
       "      <td>0.0</td>\n",
       "      <td>0.0</td>\n",
       "      <td>0.0</td>\n",
       "    </tr>\n",
       "    <tr>\n",
       "      <th>4</th>\n",
       "      <td>0.0</td>\n",
       "      <td>3.29788</td>\n",
       "      <td>5.77233</td>\n",
       "      <td>6.24612</td>\n",
       "      <td>5.49136</td>\n",
       "      <td>5.96240</td>\n",
       "      <td>5.14412</td>\n",
       "      <td>5.51851</td>\n",
       "      <td>3.23882</td>\n",
       "      <td>0.0</td>\n",
       "      <td>0.0</td>\n",
       "      <td>0.0</td>\n",
       "      <td>0.0</td>\n",
       "    </tr>\n",
       "    <tr>\n",
       "      <th>5</th>\n",
       "      <td>0.0</td>\n",
       "      <td>4.75515</td>\n",
       "      <td>5.96240</td>\n",
       "      <td>6.44716</td>\n",
       "      <td>5.78016</td>\n",
       "      <td>5.83244</td>\n",
       "      <td>5.99136</td>\n",
       "      <td>4.96982</td>\n",
       "      <td>0.00000</td>\n",
       "      <td>0.0</td>\n",
       "      <td>0.0</td>\n",
       "      <td>0.0</td>\n",
       "      <td>0.0</td>\n",
       "    </tr>\n",
       "    <tr>\n",
       "      <th>6</th>\n",
       "      <td>0.0</td>\n",
       "      <td>4.30151</td>\n",
       "      <td>5.49136</td>\n",
       "      <td>6.86448</td>\n",
       "      <td>5.70812</td>\n",
       "      <td>5.80282</td>\n",
       "      <td>4.96240</td>\n",
       "      <td>4.47712</td>\n",
       "      <td>0.00000</td>\n",
       "      <td>0.0</td>\n",
       "      <td>0.0</td>\n",
       "      <td>0.0</td>\n",
       "      <td>0.0</td>\n",
       "    </tr>\n",
       "    <tr>\n",
       "      <th>7</th>\n",
       "      <td>0.0</td>\n",
       "      <td>3.49136</td>\n",
       "      <td>5.79540</td>\n",
       "      <td>5.74951</td>\n",
       "      <td>6.03148</td>\n",
       "      <td>5.82436</td>\n",
       "      <td>5.29540</td>\n",
       "      <td>5.17215</td>\n",
       "      <td>3.26036</td>\n",
       "      <td>0.0</td>\n",
       "      <td>0.0</td>\n",
       "      <td>0.0</td>\n",
       "      <td>0.0</td>\n",
       "    </tr>\n",
       "    <tr>\n",
       "      <th>8</th>\n",
       "      <td>0.0</td>\n",
       "      <td>4.00515</td>\n",
       "      <td>6.03148</td>\n",
       "      <td>5.83815</td>\n",
       "      <td>6.26036</td>\n",
       "      <td>6.12940</td>\n",
       "      <td>5.18551</td>\n",
       "      <td>4.83815</td>\n",
       "      <td>0.00000</td>\n",
       "      <td>0.0</td>\n",
       "      <td>0.0</td>\n",
       "      <td>0.0</td>\n",
       "      <td>0.0</td>\n",
       "    </tr>\n",
       "    <tr>\n",
       "      <th>9</th>\n",
       "      <td>0.0</td>\n",
       "      <td>3.49136</td>\n",
       "      <td>6.18551</td>\n",
       "      <td>5.78784</td>\n",
       "      <td>5.59921</td>\n",
       "      <td>5.97712</td>\n",
       "      <td>5.34488</td>\n",
       "      <td>5.47712</td>\n",
       "      <td>0.00000</td>\n",
       "      <td>0.0</td>\n",
       "      <td>0.0</td>\n",
       "      <td>0.0</td>\n",
       "      <td>0.0</td>\n",
       "    </tr>\n",
       "    <tr>\n",
       "      <th>10</th>\n",
       "      <td>0.0</td>\n",
       "      <td>4.50515</td>\n",
       "      <td>6.17215</td>\n",
       "      <td>6.03148</td>\n",
       "      <td>5.49136</td>\n",
       "      <td>5.34242</td>\n",
       "      <td>5.81012</td>\n",
       "      <td>5.01188</td>\n",
       "      <td>0.00000</td>\n",
       "      <td>0.0</td>\n",
       "      <td>0.0</td>\n",
       "      <td>0.0</td>\n",
       "      <td>0.0</td>\n",
       "    </tr>\n",
       "  </tbody>\n",
       "</table>\n",
       "</div>"
      ],
      "text/plain": [
       "    0.0      1.0      2.0      3.0      4.0      5.0      6.0      7.0   \\\n",
       "1    0.0  4.18551  5.67816  6.00515  5.93640  5.97712  5.44716  5.19848   \n",
       "2    0.0  3.99136  5.47712  5.84488  5.82436  5.81012  5.08740  4.49136   \n",
       "3    0.0  3.49136  5.44716  5.81012  5.83815  5.78016  5.29540  5.01851   \n",
       "4    0.0  3.29788  5.77233  6.24612  5.49136  5.96240  5.14412  5.51851   \n",
       "5    0.0  4.75515  5.96240  6.44716  5.78016  5.83244  5.99136  4.96982   \n",
       "6    0.0  4.30151  5.49136  6.86448  5.70812  5.80282  4.96240  4.47712   \n",
       "7    0.0  3.49136  5.79540  5.74951  6.03148  5.82436  5.29540  5.17215   \n",
       "8    0.0  4.00515  6.03148  5.83815  6.26036  6.12940  5.18551  4.83815   \n",
       "9    0.0  3.49136  6.18551  5.78784  5.59921  5.97712  5.34488  5.47712   \n",
       "10   0.0  4.50515  6.17215  6.03148  5.49136  5.34242  5.81012  5.01188   \n",
       "\n",
       "       8.0   9.0   10.0  11.0  12.0  \n",
       "1   4.00515   0.0   0.0   0.0   0.0  \n",
       "2   0.00000   0.0   0.0   0.0   0.0  \n",
       "3   2.94716   0.0   0.0   0.0   0.0  \n",
       "4   3.23882   0.0   0.0   0.0   0.0  \n",
       "5   0.00000   0.0   0.0   0.0   0.0  \n",
       "6   0.00000   0.0   0.0   0.0   0.0  \n",
       "7   3.26036   0.0   0.0   0.0   0.0  \n",
       "8   0.00000   0.0   0.0   0.0   0.0  \n",
       "9   0.00000   0.0   0.0   0.0   0.0  \n",
       "10  0.00000   0.0   0.0   0.0   0.0  "
      ]
     },
     "execution_count": 6,
     "metadata": {},
     "output_type": "execute_result"
    }
   ],
   "source": [
    "pd.DataFrame(data, columns=tdata, index=list(range(1,len(data)+1)))"
   ]
  },
  {
   "cell_type": "code",
   "execution_count": 7,
   "metadata": {},
   "outputs": [
    {
     "data": {
      "image/png": "[encoded data removed]",
      "text/plain": [
       "<Figure size 576x504 with 1 Axes>"
      ]
     },
     "metadata": {
      "needs_background": "light"
     },
     "output_type": "display_data"
    }
   ],
   "source": [
    "for vdata in data:\n",
    "    plt.plot(tdata, vdata, 'ro')\n",
    "plt.xlabel('time (d)')\n",
    "plt.ylabel('$\\log\\, V(t)$')\n",
    "savefigs('Smith2018Data')\n",
    "plt.show()"
   ]
  },
  {
   "cell_type": "markdown",
   "metadata": {},
   "source": [
    "## Fitting the model\n",
    "\n",
    "We can fit the model to either the average for time point, or the whole data set combined (10 observation per time).\n",
    "\n",
    "For the fitting we constrain the parameter values to be non-negative and less than the maximum time (for $a_1$, $a_2$, $b_1$, and $b_2$).\n",
    "\n",
    "The fitting function (`least_square` via `curve_fit`) uses the Trust Region Reflective algorithm for constrained minimization built-in in the [`scipy.optimization` module](https://docs.scipy.org/doc/scipy/reference/generated/scipy.optimize.curve_fit.html). "
   ]
  },
  {
   "cell_type": "markdown",
   "metadata": {},
   "source": [
    "Using Thomas' best initial guess\n",
    "$$\n",
    "a_1=1.0,\\quad a_2=2.2,\\quad b_1=7.0,\\quad b_2=9.5,\\quad \\alpha=0.5,\\quad \\min=10^{-6},\\quad \\max=10^{6}.\n",
    "$$"
   ]
  },
  {
   "cell_type": "code",
   "execution_count": 8,
   "metadata": {},
   "outputs": [
    {
     "data": {
      "image/png": "[encoded data removed]",
      "text/plain": [
       "<Figure size 576x504 with 1 Axes>"
      ]
     },
     "metadata": {
      "needs_background": "light"
     },
     "output_type": "display_data"
    }
   ],
   "source": [
    "vl = VirusLoadFunction(tdata, vdata[0])\n",
    "par0 = [1.0, 2.2, 7., 9.5, 0.5, 1e-6, 1e6]\n",
    "vl.InitialGuess(*par0)\n",
    "\n",
    "ttdata = np.linspace(np.min(tdata), np.max(tdata), num=100)\n",
    "vvdata = vl.Eval(ttdata, par0)\n",
    "\n",
    "for vdata in data:\n",
    "    plt.plot(tdata, vdata, 'ro')\n",
    "plt.plot(tdata, data[0], 'ro', label='Data set')\n",
    "plt.plot(ttdata, vvdata, 'b-', label='Initial guess')\n",
    "plt.xlim((0., 12.))\n",
    "plt.xlabel('time (d)')\n",
    "plt.ylim((-1., 8.))\n",
    "plt.ylabel('$\\log\\, V(t)$')\n",
    "plt.legend()\n",
    "savefigs('Smith2018InitialGuess')\n",
    "plt.show()"
   ]
  },
  {
   "cell_type": "markdown",
   "metadata": {},
   "source": [
    "### a) Average\n",
    "\n",
    "Using the average for each time point to fit the model."
   ]
  },
  {
   "cell_type": "code",
   "execution_count": 9,
   "metadata": {},
   "outputs": [],
   "source": [
    "tdata_avg = tdata\n",
    "vdata_avg = np.average(data, axis=0)\n",
    "vdata_std = np.std(data, axis=0)\n",
    "vl_avg = VirusLoadFunction(tdata_avg, vdata_avg)"
   ]
  },
  {
   "cell_type": "markdown",
   "metadata": {},
   "source": [
    "Using Thomas' best initial guess\n",
    "$$\n",
    "a_1=1.0,\\quad a_2=2.2,\\quad b_1=7.0,\\quad b_2=9.5,\\quad \\alpha=0.5,\\quad \\min=10^{-6},\\quad \\max=10^{6}.\n",
    "$$"
   ]
  },
  {
   "cell_type": "code",
   "execution_count": 10,
   "metadata": {},
   "outputs": [],
   "source": [
    "vl_avg.InitialGuess(*par0)\n",
    "vl_avg.Fit()"
   ]
  },
  {
   "cell_type": "code",
   "execution_count": 11,
   "metadata": {
    "scrolled": false
   },
   "outputs": [
    {
     "data": {
      "image/png": "[encoded data removed]",
      "text/plain": [
       "<Figure size 576x504 with 1 Axes>"
      ]
     },
     "metadata": {
      "needs_background": "light"
     },
     "output_type": "display_data"
    }
   ],
   "source": [
    "# discretation and evaluation\n",
    "ttdata = np.linspace(np.min(tdata), np.max(tdata), num=100)\n",
    "vvdata = vl_avg.Predict(ttdata)\n",
    "# plotting\n",
    "plt.errorbar(tdata_avg, vdata_avg, yerr=vdata_std, fmt='ro', color='red', label='Avg. of data')\n",
    "plt.plot(ttdata, vvdata, 'b-', label='Fit')\n",
    "plt.xlim((0., 12.))\n",
    "plt.xlabel('time (d)')\n",
    "plt.ylim((-1., 8.))\n",
    "plt.ylabel('$\\log\\, V(t)$')\n",
    "plt.legend()\n",
    "savefigs('Smith2018FitAvgData')\n",
    "plt.show()"
   ]
  },
  {
   "cell_type": "markdown",
   "metadata": {},
   "source": [
    "The best fit is given by the estimated values (with standard error) and corresponding RSS."
   ]
  },
  {
   "cell_type": "code",
   "execution_count": 12,
   "metadata": {},
   "outputs": [
    {
     "name": "stdout",
     "output_type": "stream",
     "text": [
      "\n",
      "Estimated parameter values:\n",
      "   \ta_1 \ta_2 \tb_1 \tb_2 \talpha \tmin \tmax\n",
      " Est.\t0.7 \t2.9 \t6.2 \t7.6 \t0.2 \t7e-06 \t9e+05\n",
      " SE \t1e-01 \t5e-01 \t1e-01 \t6e-02 \t1e-01 \t5e-06 \t2e+05\n",
      "\n",
      "RSS: 4.00e+00\n"
     ]
    }
   ],
   "source": [
    "print('\\nEstimated parameter values:')\n",
    "print('   \\ta_1 \\ta_2 \\tb_1 \\tb_2 \\talpha \\tmin \\tmax')\n",
    "print(' Est.\\t%2.1f \\t%2.1f \\t%2.1f \\t%2.1f \\t%2.1f \\t%1.0e \\t%1.0e' % tuple(vl_avg.par))\n",
    "print(' SE \\t%1.0e \\t%1.0e \\t%1.0e \\t%1.0e \\t%1.0e \\t%1.0e \\t%1.0e' % tuple(vl_avg.par_se))\n",
    "print('\\nRSS: %4.2e' % vl_avg.RSS)"
   ]
  },
  {
   "cell_type": "code",
   "execution_count": 13,
   "metadata": {},
   "outputs": [
    {
     "name": "stdout",
     "output_type": "stream",
     "text": [
      "RSS of initial guess: 2.72e+01\n"
     ]
    }
   ],
   "source": [
    "print('RSS of initial guess: %4.2e' % sum(np.power(vl.Eval(tdata, par0) - vdata_avg, 2)))"
   ]
  },
  {
   "cell_type": "markdown",
   "metadata": {},
   "source": [
    "### b) Whole data set\n",
    "\n",
    "Using the whole data set to fit the model."
   ]
  },
  {
   "cell_type": "code",
   "execution_count": 14,
   "metadata": {},
   "outputs": [],
   "source": [
    "tdata_all = np.reshape(np.repeat(tdata, len(data)), (1, -1), order='F')[0]\n",
    "vdata_all = np.reshape(data, (1, -1), order='F')[0]\n",
    "vl_all = VirusLoadFunction(tdata_all, vdata_all)"
   ]
  },
  {
   "cell_type": "markdown",
   "metadata": {},
   "source": [
    "Using Thomas' best initial guess\n",
    "$$\n",
    "a_1=1.0,\\quad a_2=2.2,\\quad b_1=7.0,\\quad b_2=9.5,\\quad \\alpha=0.5,\\quad \\min=10^{-6},\\quad \\max=10^{6}.\n",
    "$$"
   ]
  },
  {
   "cell_type": "code",
   "execution_count": 15,
   "metadata": {},
   "outputs": [],
   "source": [
    "vl_all.InitialGuess(*par0)\n",
    "vl_all.Fit()"
   ]
  },
  {
   "cell_type": "code",
   "execution_count": 16,
   "metadata": {},
   "outputs": [
    {
     "data": {
      "image/png": "[encoded data removed]",
      "text/plain": [
       "<Figure size 576x504 with 1 Axes>"
      ]
     },
     "metadata": {
      "needs_background": "light"
     },
     "output_type": "display_data"
    }
   ],
   "source": [
    "# discretation and evaluation\n",
    "ttdata = np.linspace(np.min(tdata), np.max(tdata), num=100)\n",
    "vvdata = vl_all.Predict(ttdata)\n",
    "# plotting\n",
    "plt.plot(tdata_all, vdata_all, 'ro', color='red', label='Data set')\n",
    "plt.plot(ttdata, vvdata, 'b-', label='Fit')\n",
    "plt.xlim((0., 12.))\n",
    "plt.xlabel('time (d)')\n",
    "plt.ylim((-1., 8.))\n",
    "plt.ylabel('$\\log\\, V(t)$')\n",
    "plt.legend()\n",
    "savefigs('Smith2018FitAllData')\n",
    "plt.show()"
   ]
  },
  {
   "cell_type": "code",
   "execution_count": 17,
   "metadata": {},
   "outputs": [
    {
     "name": "stdout",
     "output_type": "stream",
     "text": [
      "\n",
      "Estimated parameter values:\n",
      "   \ta_1 \ta_2 \tb_1 \tb_2 \talpha \tmin \tmax\n",
      " Est.\t0.7 \t2.9 \t6.2 \t7.6 \t0.2 \t7e-06 \t9e+05\n",
      " SE \t1e-01 \t5e-01 \t1e-01 \t7e-02 \t1e-01 \t6e-06 \t2e+05\n",
      "\n",
      "RSS: 4.00e+00\n"
     ]
    }
   ],
   "source": [
    "print('\\nEstimated parameter values:')\n",
    "print('   \\ta_1 \\ta_2 \\tb_1 \\tb_2 \\talpha \\tmin \\tmax')\n",
    "print(' Est.\\t%2.1f \\t%2.1f \\t%2.1f \\t%2.1f \\t%2.1f \\t%1.0e \\t%1.0e' % tuple(vl_all.par))\n",
    "print(' SE \\t%1.0e \\t%1.0e \\t%1.0e \\t%1.0e \\t%1.0e \\t%1.0e \\t%1.0e' % tuple(vl_all.par_se))\n",
    "print('\\nRSS: %4.2e' % vl_all.RSS)"
   ]
  },
  {
   "cell_type": "markdown",
   "metadata": {},
   "source": [
    "## %95 percent confidence interval for $a_1$, $a_2$, $b_1$, and $a_2$"
   ]
  },
  {
   "cell_type": "code",
   "execution_count": 18,
   "metadata": {},
   "outputs": [
    {
     "data": {
      "image/png": "[encoded data removed]",
      "text/plain": [
       "<Figure size 576x504 with 1 Axes>"
      ]
     },
     "metadata": {
      "needs_background": "light"
     },
     "output_type": "display_data"
    }
   ],
   "source": [
    "plt.errorbar(vl_all.par[:4], range(4), xerr=1.96*vl_all.par_se[:4], fmt='ro')\n",
    "plt.xlim((0., 12.))\n",
    "plt.xlabel('time (d)')\n",
    "plt.yticks(range(4), ['$a_1$', '$a_2$', '$b_1$', '$b_2$'])\n",
    "plt.ylabel('Parameter')\n",
    "plt.show()"
   ]
  },
  {
   "cell_type": "code",
   "execution_count": null,
   "metadata": {},
   "outputs": [],
   "source": []
  },
  {
   "cell_type": "code",
   "execution_count": null,
   "metadata": {},
   "outputs": [],
   "source": []
  }
 ],
 "metadata": {
  "kernelspec": {
   "display_name": "Python 3.8.2 64-bit",
   "language": "python",
   "name": "python38264bit647bf622a7574030a347e80da51d7d84"
  },
  "language_info": {
   "codemirror_mode": {
    "name": "ipython",
    "version": 3
   },
   "file_extension": ".py",
   "mimetype": "text/x-python",
   "name": "python",
   "nbconvert_exporter": "python",
   "pygments_lexer": "ipython3",
   "version": "3.8.2"
  }
 },
 "nbformat": 4,
 "nbformat_minor": 4
}
